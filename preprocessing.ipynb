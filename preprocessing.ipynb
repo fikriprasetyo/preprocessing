{
  "nbformat": 4,
  "nbformat_minor": 0,
  "metadata": {
    "colab": {
      "name": "preprocessing.ipynb",
      "provenance": [],
      "collapsed_sections": []
    },
    "kernelspec": {
      "name": "python3",
      "display_name": "Python 3"
    }
  },
  "cells": [
    {
      "cell_type": "code",
      "metadata": {
        "id": "l8rHmJ3_VHKu"
      },
      "source": [
        "import numpy as np\r\n",
        "import matplotlib.pyplot as plt\r\n",
        "import pandas as pd"
      ],
      "execution_count": 1,
      "outputs": []
    },
    {
      "cell_type": "code",
      "metadata": {
        "id": "U6tP1zK7VQKC"
      },
      "source": [
        "dataset = pd.read_csv('Dataa.csv')\r\n",
        "x = dataset.iloc[:, :-1].values\r\n",
        "y = dataset.iloc[:, -1].values"
      ],
      "execution_count": 2,
      "outputs": []
    },
    {
      "cell_type": "code",
      "metadata": {
        "colab": {
          "base_uri": "https://localhost:8080/"
        },
        "id": "r2ovmuZ8VU4i",
        "outputId": "af3b4e10-1c81-4900-f631-f8263ec76b20"
      },
      "source": [
        "print(x)"
      ],
      "execution_count": 3,
      "outputs": [
        {
          "output_type": "stream",
          "text": [
            "[['Fahmi' 30.0 850000.0]\n",
            " ['Raka' nan 730000.0]\n",
            " ['Julius' 15.0 290000.0]\n",
            " ['Raka' 44.0 120000.0]\n",
            " ['Julius' 51.0 nan]\n",
            " ['Fahmi' 49.0 670000.0]\n",
            " ['Raka' 67.0 880000.0]\n",
            " ['Fahmi' 48.0 420000.0]\n",
            " ['Julius' nan 570000.0]\n",
            " ['Fahmi' 37.0 250000.0]\n",
            " ['Raka' nan 660000.0]\n",
            " ['Raka' 19.0 nan]\n",
            " ['Julius' 38.0 710000.0]\n",
            " ['Fahmi' 60.0 330000.0]]\n"
          ],
          "name": "stdout"
        }
      ]
    },
    {
      "cell_type": "code",
      "metadata": {
        "colab": {
          "base_uri": "https://localhost:8080/"
        },
        "id": "Xl6cKNirVWi0",
        "outputId": "d138d998-e4ba-4128-fed4-0c995cae3f54"
      },
      "source": [
        "print(y)"
      ],
      "execution_count": 4,
      "outputs": [
        {
          "output_type": "stream",
          "text": [
            "['No' 'Yes' 'No' 'No' 'Yes' 'Yes' 'No' 'Yes' 'No' 'Yes' 'Yes' 'Yes' 'No'\n",
            " 'Yes']\n"
          ],
          "name": "stdout"
        }
      ]
    },
    {
      "cell_type": "code",
      "metadata": {
        "id": "rTmB7moTVXoB"
      },
      "source": [
        "from sklearn.impute import SimpleImputer\r\n",
        "imputer = SimpleImputer(missing_values=np.nan, strategy='mean')\r\n",
        "imputer.fit(x[:, 1:3])\r\n",
        "x[:, 1:3] = imputer.transform(x[:, 1:3])"
      ],
      "execution_count": 5,
      "outputs": []
    },
    {
      "cell_type": "code",
      "metadata": {
        "colab": {
          "base_uri": "https://localhost:8080/"
        },
        "id": "vdP2VhZOVaXw",
        "outputId": "4b66cea9-3838-4790-f915-59e385d22014"
      },
      "source": [
        "print(x)"
      ],
      "execution_count": 6,
      "outputs": [
        {
          "output_type": "stream",
          "text": [
            "[['Fahmi' 30.0 850000.0]\n",
            " ['Raka' 41.63636363636363 730000.0]\n",
            " ['Julius' 15.0 290000.0]\n",
            " ['Raka' 44.0 120000.0]\n",
            " ['Julius' 51.0 540000.0]\n",
            " ['Fahmi' 49.0 670000.0]\n",
            " ['Raka' 67.0 880000.0]\n",
            " ['Fahmi' 48.0 420000.0]\n",
            " ['Julius' 41.63636363636363 570000.0]\n",
            " ['Fahmi' 37.0 250000.0]\n",
            " ['Raka' 41.63636363636363 660000.0]\n",
            " ['Raka' 19.0 540000.0]\n",
            " ['Julius' 38.0 710000.0]\n",
            " ['Fahmi' 60.0 330000.0]]\n"
          ],
          "name": "stdout"
        }
      ]
    },
    {
      "cell_type": "code",
      "metadata": {
        "id": "btQvZy5WVccy"
      },
      "source": [
        "from sklearn.compose import ColumnTransformer\r\n",
        "from sklearn.preprocessing import OneHotEncoder\r\n",
        "ct = ColumnTransformer(transformers=[('encoder', OneHotEncoder(), [0])], remainder = 'passthrough')\r\n",
        "x = np.array(ct.fit_transform(x))"
      ],
      "execution_count": 7,
      "outputs": []
    },
    {
      "cell_type": "code",
      "metadata": {
        "colab": {
          "base_uri": "https://localhost:8080/"
        },
        "id": "FXOPzSigVj91",
        "outputId": "e5402624-f427-49e2-848b-0e7372aa5fc9"
      },
      "source": [
        "print(x)"
      ],
      "execution_count": 8,
      "outputs": [
        {
          "output_type": "stream",
          "text": [
            "[[1.0 0.0 0.0 30.0 850000.0]\n",
            " [0.0 0.0 1.0 41.63636363636363 730000.0]\n",
            " [0.0 1.0 0.0 15.0 290000.0]\n",
            " [0.0 0.0 1.0 44.0 120000.0]\n",
            " [0.0 1.0 0.0 51.0 540000.0]\n",
            " [1.0 0.0 0.0 49.0 670000.0]\n",
            " [0.0 0.0 1.0 67.0 880000.0]\n",
            " [1.0 0.0 0.0 48.0 420000.0]\n",
            " [0.0 1.0 0.0 41.63636363636363 570000.0]\n",
            " [1.0 0.0 0.0 37.0 250000.0]\n",
            " [0.0 0.0 1.0 41.63636363636363 660000.0]\n",
            " [0.0 0.0 1.0 19.0 540000.0]\n",
            " [0.0 1.0 0.0 38.0 710000.0]\n",
            " [1.0 0.0 0.0 60.0 330000.0]]\n"
          ],
          "name": "stdout"
        }
      ]
    },
    {
      "cell_type": "code",
      "metadata": {
        "id": "kzdt9yzUVmLb"
      },
      "source": [
        "from sklearn.preprocessing import LabelEncoder\r\n",
        "le = LabelEncoder()\r\n",
        "y = le.fit_transform(y)"
      ],
      "execution_count": 9,
      "outputs": []
    },
    {
      "cell_type": "code",
      "metadata": {
        "colab": {
          "base_uri": "https://localhost:8080/"
        },
        "id": "gXwtYDq3Vnul",
        "outputId": "85e4d9d6-4a5a-4b95-d8d8-421fae5f16da"
      },
      "source": [
        "print(y)"
      ],
      "execution_count": 10,
      "outputs": [
        {
          "output_type": "stream",
          "text": [
            "[0 1 0 0 1 1 0 1 0 1 1 1 0 1]\n"
          ],
          "name": "stdout"
        }
      ]
    },
    {
      "cell_type": "code",
      "metadata": {
        "id": "Dq1h2J1AVqpY"
      },
      "source": [
        "from sklearn.model_selection import train_test_split\r\n",
        "x_train, x_test, y_train, y_test = train_test_split(x, y, test_size=0.2, random_state=1)"
      ],
      "execution_count": 11,
      "outputs": []
    },
    {
      "cell_type": "code",
      "metadata": {
        "colab": {
          "base_uri": "https://localhost:8080/"
        },
        "id": "Vhok6nmFVrOw",
        "outputId": "aabe1a8a-202c-46d5-bb23-2c3012019c18"
      },
      "source": [
        "print(x_train)"
      ],
      "execution_count": 12,
      "outputs": [
        {
          "output_type": "stream",
          "text": [
            "[[0.0 1.0 0.0 15.0 290000.0]\n",
            " [0.0 0.0 1.0 41.63636363636363 660000.0]\n",
            " [0.0 1.0 0.0 51.0 540000.0]\n",
            " [0.0 0.0 1.0 41.63636363636363 730000.0]\n",
            " [0.0 1.0 0.0 38.0 710000.0]\n",
            " [1.0 0.0 0.0 30.0 850000.0]\n",
            " [1.0 0.0 0.0 60.0 330000.0]\n",
            " [1.0 0.0 0.0 37.0 250000.0]\n",
            " [0.0 1.0 0.0 41.63636363636363 570000.0]\n",
            " [0.0 0.0 1.0 19.0 540000.0]\n",
            " [1.0 0.0 0.0 49.0 670000.0]]\n"
          ],
          "name": "stdout"
        }
      ]
    },
    {
      "cell_type": "code",
      "metadata": {
        "colab": {
          "base_uri": "https://localhost:8080/"
        },
        "id": "QtDX2l2SVu7o",
        "outputId": "973f3ae2-e5b8-4f4e-dcd1-40750b91a49a"
      },
      "source": [
        "print(x_test)"
      ],
      "execution_count": 13,
      "outputs": [
        {
          "output_type": "stream",
          "text": [
            "[[0.0 0.0 1.0 44.0 120000.0]\n",
            " [1.0 0.0 0.0 48.0 420000.0]\n",
            " [0.0 0.0 1.0 67.0 880000.0]]\n"
          ],
          "name": "stdout"
        }
      ]
    },
    {
      "cell_type": "code",
      "metadata": {
        "colab": {
          "base_uri": "https://localhost:8080/"
        },
        "id": "76A6WHdqWYAN",
        "outputId": "da2f9239-c1c6-4203-d9f5-decc17509fd1"
      },
      "source": [
        "print(y_train)"
      ],
      "execution_count": 14,
      "outputs": [
        {
          "output_type": "stream",
          "text": [
            "[0 1 1 1 0 0 1 1 0 1 1]\n"
          ],
          "name": "stdout"
        }
      ]
    },
    {
      "cell_type": "code",
      "metadata": {
        "colab": {
          "base_uri": "https://localhost:8080/"
        },
        "id": "As4UB4xjWaTl",
        "outputId": "2f25230e-776d-41cc-b5ab-277fec10c311"
      },
      "source": [
        "print(y_test)"
      ],
      "execution_count": 15,
      "outputs": [
        {
          "output_type": "stream",
          "text": [
            "[0 1 0]\n"
          ],
          "name": "stdout"
        }
      ]
    },
    {
      "cell_type": "code",
      "metadata": {
        "id": "Y-Mzsg_9WeU7"
      },
      "source": [
        "from sklearn.preprocessing import StandardScaler\r\n",
        "sc = StandardScaler()\r\n",
        "x_train[:, 3:] = sc.fit_transform(x_train[:, 3:])\r\n",
        "x_test[:, 3:] = sc.transform(x_test[:, 3:])"
      ],
      "execution_count": 16,
      "outputs": []
    },
    {
      "cell_type": "code",
      "metadata": {
        "colab": {
          "base_uri": "https://localhost:8080/"
        },
        "id": "mNfH8hALWfuw",
        "outputId": "77e67f9b-f50c-4f33-8494-144f5b19e532"
      },
      "source": [
        "print(x_train)"
      ],
      "execution_count": 17,
      "outputs": [
        {
          "output_type": "stream",
          "text": [
            "[[0.0 1.0 0.0 -1.8578801597238739 -1.442202280797687]\n",
            " [0.0 0.0 1.0 0.24462958563779916 0.5475479845740368]\n",
            " [0.0 1.0 0.0 0.983737107044804 -0.0977764258167926]\n",
            " [0.0 0.0 1.0 0.24462958563779916 0.9239872239686873]\n",
            " [0.0 1.0 0.0 -0.042402461510551874 0.8164331555702157]\n",
            " [1.0 0.0 0.0 -0.6738729652369247 1.5693116343595166]\n",
            " [1.0 0.0 0.0 1.6941414237369734 -1.227094144000744]\n",
            " [1.0 0.0 0.0 -0.12133627447634848 -1.6573104175946303]\n",
            " [0.0 1.0 0.0 0.24462958563779916 0.06355467678091473]\n",
            " [0.0 0.0 1.0 -1.5421449078606873 -0.0977764258167926]\n",
            " [1.0 0.0 0.0 0.8258694811132108 0.6013250187732725]]\n"
          ],
          "name": "stdout"
        }
      ]
    },
    {
      "cell_type": "code",
      "metadata": {
        "colab": {
          "base_uri": "https://localhost:8080/"
        },
        "id": "8Tl5Jq0JWias",
        "outputId": "cd9178a0-8ebd-46cb-8b48-c988294b7387"
      },
      "source": [
        "print(x_test)"
      ],
      "execution_count": 18,
      "outputs": [
        {
          "output_type": "stream",
          "text": [
            "[[0.0 0.0 1.0 0.4312004162842277 -2.3564118621846952]\n",
            " [1.0 0.0 0.0 0.7469356681474142 -0.743100836207622]\n",
            " [0.0 0.0 1.0 2.24667811449755 1.730642736957224]]\n"
          ],
          "name": "stdout"
        }
      ]
    }
  ]
}